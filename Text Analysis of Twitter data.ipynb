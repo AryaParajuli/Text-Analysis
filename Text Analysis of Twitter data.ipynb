{
 "cells": [
  {
   "cell_type": "markdown",
   "id": "b90a78d1",
   "metadata": {},
   "source": [
    "# Text Analysis of Twitter data\n",
    "\n",
    "A fun project that I did during the weekend. The purpose of this project is to take out the sentiments from the twitter texts. <br/>\n",
    "Here is a summary of the following project:\n",
    "\n",
    "## Example Workflow:\n",
    "\n",
    "### 1. Data Cleaning:\n",
    "\n",
    "Input: \"@user #white #supremacists want everyone to see the new â #birdsâ #movie â and hereâ s why\" <br /> \n",
    "Step 1: \"user white supremacists want everyone to see the new â birdsâ movie â and here's why\" <br/>\n",
    "Step 2: \"white supremacist want everyone see birdsâ movie hereâs\"\n",
    "\n",
    "### 2. Sentiment Analysis:\n",
    "\n",
    "Input: \"user white supremacists want everyone to see the new â birdsâ movie â and here's why\" <br /> \n",
    "Output: \"partially negative\"\n"
   ]
  },
  {
   "cell_type": "markdown",
   "id": "6017020c",
   "metadata": {},
   "source": [
    "### Loading the Data\n",
    "I load the Twitter data from a CSV file. This data contains tweets that will be analyzed."
   ]
  },
  {
   "cell_type": "code",
   "execution_count": 2,
   "id": "36c039e8",
   "metadata": {},
   "outputs": [
    {
     "name": "stderr",
     "output_type": "stream",
     "text": [
      "/Users/arya/opt/anaconda3/lib/python3.9/site-packages/pandas/core/arrays/masked.py:60: UserWarning: Pandas requires version '1.3.6' or newer of 'bottleneck' (version '1.3.5' currently installed).\n",
      "  from pandas.core import (\n"
     ]
    },
    {
     "data": {
      "text/html": [
       "<div>\n",
       "<style scoped>\n",
       "    .dataframe tbody tr th:only-of-type {\n",
       "        vertical-align: middle;\n",
       "    }\n",
       "\n",
       "    .dataframe tbody tr th {\n",
       "        vertical-align: top;\n",
       "    }\n",
       "\n",
       "    .dataframe thead th {\n",
       "        text-align: right;\n",
       "    }\n",
       "</style>\n",
       "<table border=\"1\" class=\"dataframe\">\n",
       "  <thead>\n",
       "    <tr style=\"text-align: right;\">\n",
       "      <th></th>\n",
       "      <th>id</th>\n",
       "      <th>tweet</th>\n",
       "    </tr>\n",
       "  </thead>\n",
       "  <tbody>\n",
       "    <tr>\n",
       "      <th>0</th>\n",
       "      <td>31963</td>\n",
       "      <td>#studiolife #aislife #requires #passion #dedic...</td>\n",
       "    </tr>\n",
       "    <tr>\n",
       "      <th>1</th>\n",
       "      <td>31964</td>\n",
       "      <td>@user #white #supremacists want everyone to s...</td>\n",
       "    </tr>\n",
       "  </tbody>\n",
       "</table>\n",
       "</div>"
      ],
      "text/plain": [
       "      id                                              tweet\n",
       "0  31963  #studiolife #aislife #requires #passion #dedic...\n",
       "1  31964   @user #white #supremacists want everyone to s..."
      ]
     },
     "execution_count": 2,
     "metadata": {},
     "output_type": "execute_result"
    }
   ],
   "source": [
    "import numpy as np # linear algebra\n",
    "import pandas as pd # data processing, CSV file I/O (e.g. pd.read_csv)\n",
    "\n",
    "data = pd.read_csv('test-2.csv')\n",
    "\n",
    "data.head(2)"
   ]
  },
  {
   "cell_type": "markdown",
   "id": "ac134dde",
   "metadata": {},
   "source": [
    "### Count the words:\n",
    "\n",
    "Next, I count the number of words in each tweet. This helps us understand the length of the tweets and prepare for further text processing."
   ]
  },
  {
   "cell_type": "code",
   "execution_count": 3,
   "id": "856fc5cd",
   "metadata": {},
   "outputs": [
    {
     "name": "stdout",
     "output_type": "stream",
     "text": [
      "                                               tweet  word_count\n",
      "0  #studiolife #aislife #requires #passion #dedic...          12\n"
     ]
    }
   ],
   "source": [
    "def num_of_words(df):\n",
    "    df['word_count'] = df['tweet'].apply(lambda x : len(str(x).split(\" \")))\n",
    "    print(df[['tweet','word_count']].head(1))\n",
    "    \n",
    "num_of_words(data)"
   ]
  },
  {
   "cell_type": "markdown",
   "id": "4be4a44b",
   "metadata": {},
   "source": [
    "### Count the characters"
   ]
  },
  {
   "cell_type": "code",
   "execution_count": 4,
   "id": "b60b50f1",
   "metadata": {},
   "outputs": [
    {
     "name": "stdout",
     "output_type": "stream",
     "text": [
      "                                               tweet  char_count\n",
      "0  #studiolife #aislife #requires #passion #dedic...          90\n",
      "1   @user #white #supremacists want everyone to s...         101\n",
      "2  safe ways to heal your #acne!!    #altwaystohe...          71\n",
      "3  is the hp and the cursed child book up for res...         142\n",
      "4    3rd #bihday to my amazing, hilarious #nephew...          93\n"
     ]
    }
   ],
   "source": [
    "def num_of_chars(df):\n",
    "    df['char_count'] = df['tweet'].str.len()\n",
    "    print(df[['tweet', 'char_count']].head())\n",
    "    \n",
    "num_of_chars(data)"
   ]
  },
  {
   "cell_type": "markdown",
   "id": "fec960a2",
   "metadata": {},
   "source": [
    "### Count the numbers"
   ]
  },
  {
   "cell_type": "code",
   "execution_count": 5,
   "id": "face72bb",
   "metadata": {},
   "outputs": [],
   "source": [
    "def num_numeric(df):\n",
    "    df['numeric'] = df['tweet'].apply(lambda x: len([x for x in\n",
    "                                                    x.split() if x.isdigit()]))\n",
    "    \n",
    "num_numeric(data)    "
   ]
  },
  {
   "cell_type": "markdown",
   "id": "25290152",
   "metadata": {},
   "source": [
    "# Text analysis\n",
    "\n",
    "**CounterVectorization** is a SciKitLearn library that transforms any text document by converting each unique word into a feature and counting its occurrences. This process can produce numerous features, but it includes useful parameters like stop_words, n_grams, and max_features to manage them. \n",
    "\n",
    "**Stop_words** exclude common, insignificant words such as \"is,\" \"the,\" and \"a,\" which often appear but have minimal impact. \n",
    "\n",
    "The **ngrams_range** parameter allows for grouping words together, producing phrases like \"Hello again\" (for n=2) or \"See you later\" (for n=3) instead of individual words. \n",
    "\n",
    "The **max_features** parameter controls the number of features created, with \"none\" including all words, and setting it to a specific number, like 50, limiting the features to the top 50 most frequent words."
   ]
  },
  {
   "cell_type": "markdown",
   "id": "d5944478",
   "metadata": {},
   "source": [
    "difference between **HashingVectorizer** and **counterVectorizer**\n",
    "\n",
    "The **HashingVectorizer** is a tool that helps convert text into numbers so that a computer can work with the text more easily. Here's how it works and why it's useful:\n",
    "\n",
    "Turning Words into Numbers:\n",
    "\n",
    "Imagine you have a bunch of text documents and you want to analyze them. Computers can't understand words directly, so we need to convert these words into numbers.\n",
    "HashingVectorizer helps do this by using a special trick called \"hashing.\"\n",
    "Hashing Trick:\n",
    "\n",
    "Instead of keeping a list of all the unique words (like a dictionary), HashingVectorizer uses a mathematical function to turn each word into a number.\n",
    "This is like having a magic box where you put in a word, and it gives you a number. The same word will always give you the same number.\n",
    "Fixed Number of Features:\n",
    "\n",
    "When converting words to numbers, **HashingVectorizer** decides in advance how many different numbers (features) it will use. This is like saying, \"I will use up to 1,000 different numbers to represent all my words.\"\n",
    "This helps keep the amount of data manageable, especially if you have a lot of text.\n",
    "Efficient and Memory-Friendly:\n",
    "\n",
    "Because it doesn't need to store the actual list of words, HashingVectorizer uses less memory. It's like packing for a trip and deciding to bring only what you absolutely need, so your suitcase stays light.\n",
    "This makes it especially good for working with large amounts of text.\n",
    "\n",
    "**One-Way Conversion:**\n",
    "\n",
    "Once the text is turned into numbers, you can't easily go back to the original words. It's like turning eggs into an omelette—you can't get back to the original eggs.\n",
    "Collisions:\n",
    "\n",
    "Sometimes, different words might get turned into the same number by the hashing process. This is called a \"collision.\" It's like two different keys fitting into the same lock. However, this doesn't usually cause big problems if you use enough different numbers.\n",
    "\n",
    "\n",
    "**CountVectorizer**\n",
    "Vocabulary Building:\n",
    "\n",
    "How it works: It reads all the text documents and builds a dictionary (vocabulary) of all unique words. Each word is then assigned a unique index.\n",
    "\n",
    "Memory Usage: It stores the entire vocabulary in memory, which can be a lot if there are many unique words.\n",
    "\n",
    "Matrix: It creates a matrix where each row represents a document and each column represents a word from the vocabulary. The values in the matrix indicate how often each word appears in each document.\n",
    "Inverse Transformation:\n",
    "\n",
    "Reverse Process: You can convert the numerical matrix back to the original words because the vocabulary is stored.\n",
    "\n",
    "Example Use: Great for smaller datasets where storing the vocabulary is not an issue."
   ]
  },
  {
   "cell_type": "markdown",
   "id": "206f186b",
   "metadata": {},
   "source": [
    "### Examples of 'CountVectorizer' and 'HashingVectorizer':"
   ]
  },
  {
   "cell_type": "code",
   "execution_count": 6,
   "id": "91dd1331",
   "metadata": {},
   "outputs": [
    {
     "name": "stdout",
     "output_type": "stream",
     "text": [
      "['and' 'document' 'first' 'is' 'one' 'second' 'the' 'third' 'this']\n"
     ]
    }
   ],
   "source": [
    "#extracts all the unique \"features\"(words) from the document/text\n",
    "from sklearn.feature_extraction.text import CountVectorizer\n",
    "corpus = [\n",
    "          'This is the first document.',\n",
    "          'This document is the second document.',\n",
    "          'And this is the third one.',\n",
    "          'Is this the first document?',\n",
    "         ]\n",
    "\n",
    "vectorizer = CountVectorizer()\n",
    "X = vectorizer.fit_transform(corpus)\n",
    "print(vectorizer.get_feature_names_out())"
   ]
  },
  {
   "cell_type": "code",
   "execution_count": 7,
   "id": "2ca4586b",
   "metadata": {},
   "outputs": [
    {
     "name": "stdout",
     "output_type": "stream",
     "text": [
      "[[0 1 1 1 0 0 1 0 1]\n",
      " [0 2 0 1 0 1 1 0 1]\n",
      " [1 0 0 1 1 0 1 1 1]\n",
      " [0 1 1 1 0 0 1 0 1]]\n"
     ]
    }
   ],
   "source": [
    "print(X.toarray())"
   ]
  },
  {
   "cell_type": "code",
   "execution_count": 10,
   "id": "143aef89",
   "metadata": {},
   "outputs": [
    {
     "name": "stdout",
     "output_type": "stream",
     "text": [
      "['and this' 'document is' 'first document' 'is the' 'is this'\n",
      " 'second document' 'the first' 'the second' 'the third' 'third one'\n",
      " 'this document' 'this is' 'this the']\n",
      "[[0 0 1 1 0 0 1 0 0 0 0 1 0]\n",
      " [0 1 0 1 0 1 0 1 0 0 1 0 0]\n",
      " [1 0 0 1 0 0 0 0 1 1 0 1 0]\n",
      " [0 0 1 0 1 0 1 0 0 0 0 0 1]]\n"
     ]
    }
   ],
   "source": [
    "vectorizer2 = CountVectorizer(analyzer='word', ngram_range=(2,2))\n",
    "# to remove stop words use 'stop_words ='english'\n",
    "x2 = vectorizer2.fit_transform(corpus)\n",
    "print(vectorizer2.get_feature_names_out())\n",
    "print(x2.toarray())"
   ]
  },
  {
   "cell_type": "code",
   "execution_count": 11,
   "id": "4bd72d58",
   "metadata": {},
   "outputs": [],
   "source": [
    "from sklearn.feature_extraction.text import HashingVectorizer\n",
    "corpus = [\n",
    "          'This is the first document.',\n",
    "          'This document is the second document.',\n",
    "          'And this is the third one.',\n",
    "          'Is this the first document?',\n",
    "         ]\n",
    "vectorizer = HashingVectorizer(n_features=2**4)\n",
    "X = vectorizer.fit_transform(corpus)"
   ]
  },
  {
   "cell_type": "markdown",
   "id": "971913a2",
   "metadata": {},
   "source": [
    "**note:** The HashingVectorizer in SciKitLearn does not support the get_feature_names_out \n",
    "method because it uses a hashing trick to convert text data into numerical features, \n",
    "and thus it does not keep track of the original feature names. Hence, we cannot see the output like we saw in 'CountVectorizer'."
   ]
  },
  {
   "cell_type": "code",
   "execution_count": 12,
   "id": "25a9d608",
   "metadata": {},
   "outputs": [
    {
     "name": "stdout",
     "output_type": "stream",
     "text": [
      "(4, 16)\n"
     ]
    }
   ],
   "source": [
    "print(X.shape)"
   ]
  },
  {
   "cell_type": "markdown",
   "id": "83231179",
   "metadata": {},
   "source": [
    "### Lowercasing\n",
    "\n",
    "Converting all the text into lowercase so that there will be no duplicate texts"
   ]
  },
  {
   "cell_type": "code",
   "execution_count": 14,
   "id": "caacba99",
   "metadata": {},
   "outputs": [
    {
     "name": "stdout",
     "output_type": "stream",
     "text": [
      "0    #studiolife #aislife #requires #passion #dedic...\n",
      "1    @user #white #supremacists want everyone to se...\n",
      "2    safe ways to heal your #acne!! #altwaystoheal ...\n",
      "3    is the hp and the cursed child book up for res...\n",
      "4    3rd #bihday to my amazing, hilarious #nephew e...\n",
      "Name: tweet, dtype: object\n"
     ]
    }
   ],
   "source": [
    "def lower_case(df):\n",
    "    df['tweet'] = df['tweet'].apply(lambda x: \" \".join(x.lower() for x \n",
    "                                                      in x.split()))\n",
    "    print(df['tweet'].head())\n",
    "    \n",
    "lower_case(data)"
   ]
  },
  {
   "cell_type": "markdown",
   "id": "7c658e66",
   "metadata": {},
   "source": [
    "### Removing the punctuation"
   ]
  },
  {
   "cell_type": "code",
   "execution_count": 15,
   "id": "cd088a9b",
   "metadata": {},
   "outputs": [
    {
     "name": "stdout",
     "output_type": "stream",
     "text": [
      "user white supremacists want everyone to see the new â birdsâ movie â and hereâs why\n"
     ]
    }
   ],
   "source": [
    "def punct_remove(df):\n",
    "    df['tweet'] = df['tweet'].str.replace('[^\\w\\s]','', regex=True)\n",
    "    print(df['tweet'].iloc[1])\n",
    "\n",
    "punct_remove(data)"
   ]
  },
  {
   "cell_type": "markdown",
   "id": "7649fb7e",
   "metadata": {},
   "source": [
    "### Stopwords removal\n",
    "\n",
    "Stop words generates a list of words that will not be included as a feature. The primary use of this is the “English” dictionary where it will get rid of insignificant words like “is, the, a, it, as “which can appear quite frequently, but have little to no influence on our end goal."
   ]
  },
  {
   "cell_type": "code",
   "execution_count": 16,
   "id": "389ba289",
   "metadata": {},
   "outputs": [
    {
     "name": "stdout",
     "output_type": "stream",
     "text": [
      "                                               tweet  stopwords\n",
      "0  studiolife aislife requires passion dedication...          1\n",
      "1  user white supremacists want everyone to see t...          4\n",
      "2  safe ways to heal your acne altwaystoheal heal...          2\n",
      "3  is the hp and the cursed child book up for res...         11\n",
      "4  3rd bihday to my amazing hilarious nephew eli ...          4\n"
     ]
    }
   ],
   "source": [
    "import nltk\n",
    "from nltk.corpus import stopwords\n",
    "set(stopwords.words('english'))\n",
    "\n",
    "stop = stopwords.words('english')\n",
    "\n",
    "def stop_words(df):\n",
    "    df['stopwords']= df['tweet'].apply(lambda x: len([x for x in x.split() if x in stop]))\n",
    "    print(df[['tweet', 'stopwords']].head())\n",
    "    \n",
    "stop_words(data)"
   ]
  },
  {
   "cell_type": "code",
   "execution_count": 17,
   "id": "b39a193e",
   "metadata": {},
   "outputs": [
    {
     "name": "stdout",
     "output_type": "stream",
     "text": [
      "0    studiolife aislife requires passion dedication...\n",
      "1    user white supremacists want everyone see new ...\n",
      "2    safe ways heal acne altwaystoheal healthy healing\n",
      "3    hp cursed child book reservations already yes ...\n",
      "4    3rd bihday amazing hilarious nephew eli ahmir ...\n",
      "Name: tweet, dtype: object\n"
     ]
    }
   ],
   "source": [
    "def stopwords_remove(df):\n",
    "    df['tweet'] = df['tweet'].apply(lambda x: \" \".join(x for\n",
    "                                                      x in x.split() if x not in stop))\n",
    "    print(df['tweet'].head())\n",
    "    \n",
    "stopwords_remove(data)"
   ]
  },
  {
   "cell_type": "markdown",
   "id": "236c9e72",
   "metadata": {},
   "source": [
    "### Frequent word removal"
   ]
  },
  {
   "cell_type": "code",
   "execution_count": 27,
   "id": "59f06c15",
   "metadata": {},
   "outputs": [],
   "source": [
    "freq = pd.Series(' '.join(data['tweet']).split()).value_counts()[:10]\n",
    "freq\n",
    "freq = list(freq.index)"
   ]
  },
  {
   "cell_type": "code",
   "execution_count": 29,
   "id": "837a7f85",
   "metadata": {},
   "outputs": [
    {
     "name": "stdout",
     "output_type": "stream",
     "text": [
      "                                                tweet  frequent_words\n",
      "1   white supremacists want everyone see new birds...             new\n",
      "4   3rd bihday amazing hilarious nephew eli ahmir ...          bihday\n",
      "13  good food good life enjoy ðððððð called garlic...  good good life\n",
      "16           got limited edition rain shine set today           today\n",
      "21  levyrroni recuerdos memoriesðâððð recuerdos fr...            life\n"
     ]
    }
   ],
   "source": [
    "def freq_word(df):\n",
    "    df['frequent_words'] = df['tweet'].apply(lambda x: \" \".join(x for x in x.split()\n",
    "                                                      if x in freq))\n",
    "    result_df = df[df['frequent_words'] != \"\"]\n",
    "    print(result_df[['tweet', 'frequent_words']].head())\n",
    "    \n",
    "freq_word(data)"
   ]
  },
  {
   "cell_type": "code",
   "execution_count": 30,
   "id": "739e0e5c",
   "metadata": {},
   "outputs": [
    {
     "name": "stdout",
     "output_type": "stream",
     "text": [
      "0    studiolife aislife requires passion dedication...\n",
      "1    white supremacists want everyone see birdsâ mo...\n",
      "2    safe ways heal acne altwaystoheal healthy healing\n",
      "3    hp cursed child book reservations already yes ...\n",
      "4    3rd amazing hilarious nephew eli ahmir uncle d...\n",
      "Name: tweet, dtype: object\n"
     ]
    }
   ],
   "source": [
    "def freq_word_removal(df):\n",
    "    df['tweet'] = df['tweet'].apply(lambda x: \" \".join(x for x in x.split()\n",
    "                                                      if x not in freq))\n",
    "    print(df['tweet'].head())\n",
    "    \n",
    "freq_word_removal(data)"
   ]
  },
  {
   "cell_type": "markdown",
   "id": "ed7f68af",
   "metadata": {},
   "source": [
    "### Rare word removal"
   ]
  },
  {
   "cell_type": "code",
   "execution_count": 37,
   "id": "e7384691",
   "metadata": {},
   "outputs": [],
   "source": [
    "freq = pd.Series(' '.join(data['tweet']).split()).value_counts()[-10:]\n",
    "freq\n",
    "freq = list(freq.index)"
   ]
  },
  {
   "cell_type": "code",
   "execution_count": 38,
   "id": "6971de85",
   "metadata": {},
   "outputs": [
    {
     "name": "stdout",
     "output_type": "stream",
     "text": [
      "                                                   tweet  \\\n",
      "6011   overwatch missed livecleo overwatch pc pcgame ...   \n",
      "6012   manutd fans full force defending ronaldo tonig...   \n",
      "6013   pumped show wolfden couldnt believe saw mornin...   \n",
      "6017   falling stairs list morning spoonie ouch bruis...   \n",
      "17196  song glad free download shoegaze newmusic newsong   \n",
      "\n",
      "                                 only_rarewords  \n",
      "6011                                     pcgame  \n",
      "6012                                 manutd cr7  \n",
      "6013                         wolfden airforfree  \n",
      "6017   spoonie bruised wastedenergy chronicpain  \n",
      "17196                                  shoegaze  \n"
     ]
    }
   ],
   "source": [
    "def rare_word(df):\n",
    "    df['only_rarewords'] = df['tweet'].apply(lambda x: \" \".join(x for x in x.split()\n",
    "                                                               if x in freq))\n",
    "    result_df = df[df['only_rarewords'] != \"\"]\n",
    "    print(result_df[['tweet', 'only_rarewords']].head(5))\n",
    "    \n",
    "rare_word(data)"
   ]
  },
  {
   "cell_type": "code",
   "execution_count": 39,
   "id": "afe39d93",
   "metadata": {},
   "outputs": [
    {
     "name": "stdout",
     "output_type": "stream",
     "text": [
      "      id                                              tweet\n",
      "0  31963  studiolife aislife requires passion dedication...\n",
      "1  31964  white supremacists want everyone see birdsâ mo...\n",
      "2  31965  safe ways heal acne altwaystoheal healthy healing\n",
      "3  31966  hp cursed child book reservations already yes ...\n",
      "4  31967  3rd amazing hilarious nephew eli ahmir uncle d...\n"
     ]
    }
   ],
   "source": [
    "def rare_word_removal(df):\n",
    "    df['removal'] = df['tweet'].apply(lambda x: \" \".join(x for x in x.split() if x not in freq))\n",
    "    print(df[['id','tweet']].head())\n",
    "    \n",
    "rare_word_removal(data)"
   ]
  },
  {
   "cell_type": "markdown",
   "id": "3ab8b334",
   "metadata": {},
   "source": [
    "### Correct spelling "
   ]
  },
  {
   "cell_type": "code",
   "execution_count": 42,
   "id": "6bceefbe",
   "metadata": {},
   "outputs": [
    {
     "data": {
      "text/plain": [
       "0    studiolife dislike requires passion education ...\n",
       "1    white supremacists want everyone see birds mov...\n",
       "2    safe ways heal acne altwaystoheal healthy healing\n",
       "3    he cursed child book reservations already yes ...\n",
       "4    rd amazing hilarious nephew epi their uncle da...\n",
       "Name: tweet, dtype: object"
      ]
     },
     "execution_count": 42,
     "metadata": {},
     "output_type": "execute_result"
    }
   ],
   "source": [
    "from textblob import TextBlob\n",
    "\n",
    "def spell_correction(df):\n",
    "    return df['tweet'][:5].apply(lambda x: str(TextBlob(x).correct()))\n",
    "\n",
    "spell_correction(data)"
   ]
  },
  {
   "cell_type": "markdown",
   "id": "063f929d",
   "metadata": {},
   "source": [
    "### Tokenization\n",
    "Tokenization refers to dividing the text into a sequence of words or sentences.\n"
   ]
  },
  {
   "cell_type": "code",
   "execution_count": 46,
   "id": "09730137",
   "metadata": {},
   "outputs": [
    {
     "data": {
      "text/plain": [
       "WordList(['white', 'supremacists', 'want', 'everyone', 'see', 'birdsâ', 'movie', 'hereâs'])"
      ]
     },
     "execution_count": 46,
     "metadata": {},
     "output_type": "execute_result"
    }
   ],
   "source": [
    "from textblob import TextBlob\n",
    "def tokens(df):\n",
    "    return TextBlob(df['tweet'][1]).words\n",
    "\n",
    "tokens(data)"
   ]
  },
  {
   "cell_type": "markdown",
   "id": "a7a1fe40",
   "metadata": {},
   "source": [
    "### Stemming\n",
    "\n",
    "So, stemming takes a word and refers it back to its base or root form. Stems, Stemming, Stemmed and Stemtization are all based on the single word stem."
   ]
  },
  {
   "cell_type": "code",
   "execution_count": 49,
   "id": "447d140c",
   "metadata": {},
   "outputs": [
    {
     "data": {
      "text/plain": [
       "0    studiolif aislif requir passion dedic willpow ...\n",
       "1    white supremacist want everyon see birdsâ movi...\n",
       "2            safe way heal acn altwaystoh healthi heal\n",
       "3    hp curs child book reserv alreadi ye ððð harry...\n",
       "4    3rd amaz hilari nephew eli ahmir uncl dave lov...\n",
       "Name: tweet, dtype: object"
      ]
     },
     "execution_count": 49,
     "metadata": {},
     "output_type": "execute_result"
    }
   ],
   "source": [
    "from nltk.stem import PorterStemmer\n",
    "st = PorterStemmer()\n",
    "def stemming(df):\n",
    "    return df['tweet'][:5].apply(lambda x: \" \".join([st.stem(word)\n",
    "                                                    for word in x.split()]))\n",
    "\n",
    "stemming(data)"
   ]
  },
  {
   "cell_type": "markdown",
   "id": "b0794294",
   "metadata": {},
   "source": [
    "### Lemmentization\n",
    "\n",
    "Lemmatization is the process of converting a word to its base form. The difference between stemming and lemmatization is, lemmatization considers the context and converts the word to its meaningful base form, whereas stemming just removes the last few characters, often leading to incorrect meanings and spelling errors.\n",
    "\n",
    "Lemmatization is a more effective option than stemming because it converts the word into its root word, rather than just stripping the suffices.\n",
    "\n",
    "Lemmatization makes use of the vocabulary and does a morphological analysis to obtain the root word. Therefore, we usually prefer using lemmatization over stemming."
   ]
  },
  {
   "cell_type": "code",
   "execution_count": 51,
   "id": "ae5220c5",
   "metadata": {},
   "outputs": [
    {
     "name": "stderr",
     "output_type": "stream",
     "text": [
      "[nltk_data] Downloading package wordnet to /Users/arya/nltk_data...\n",
      "[nltk_data]   Package wordnet is already up-to-date!\n",
      "[nltk_data] Downloading package punkt to /Users/arya/nltk_data...\n",
      "[nltk_data]   Package punkt is already up-to-date!\n",
      "[nltk_data] Downloading package omw-1.4 to /Users/arya/nltk_data...\n",
      "[nltk_data]   Package omw-1.4 is already up-to-date!\n"
     ]
    },
    {
     "data": {
      "text/plain": [
       "True"
      ]
     },
     "execution_count": 51,
     "metadata": {},
     "output_type": "execute_result"
    }
   ],
   "source": [
    "from textblob import TextBlob\n",
    "import nltk\n",
    "\n",
    "# Download the necessary resources\n",
    "nltk.download('wordnet')\n",
    "nltk.download('punkt')\n",
    "nltk.download('omw-1.4')"
   ]
  },
  {
   "cell_type": "code",
   "execution_count": 63,
   "id": "a153f9a6",
   "metadata": {},
   "outputs": [
    {
     "name": "stdout",
     "output_type": "stream",
     "text": [
      "0    studiolife aislife requires passion dedication...\n",
      "1    white supremacist want everyone see birdsâ mov...\n",
      "2     safe way heal acne altwaystoheal healthy healing\n",
      "3    hp cursed child book reservation already yes ð...\n",
      "4    3rd amazing hilarious nephew eli ahmir uncle d...\n",
      "Name: tweet, dtype: object\n"
     ]
    }
   ],
   "source": [
    "from textblob import Word\n",
    "def lemmatization(df):\n",
    "    df['tweet'] = df['tweet'].apply(lambda x: \" \".join([Word(word).lemmatize() for word in x.split()]))\n",
    "    print(df['tweet'].head())\n",
    "    \n",
    "lemmatization(data)"
   ]
  },
  {
   "cell_type": "markdown",
   "id": "1c06dc86",
   "metadata": {},
   "source": [
    "# Advanced text processing \n",
    "Even thought there are functions that can easily use the N-gram along with other features and give an output. However, we will still look at the working of \"ngram\" here:\n",
    "\n",
    "### N-gram\n",
    "\n",
    "N-grams are the combination of multiple words used together. Ngrams with N=1 are called unigrams. Similarly, bigrams (N=2), trigrams (N=3) and so on.\n",
    "\n",
    "Unigrams do not usually contain as much information as compared to bigrams and trigrams. The basic principle behind n-grams is that they capture the language structure, like what letter or word is likely to follow the given one.\n",
    "\n",
    "The ngrams_range parameter determines how words are grouped together. Instead of having the NLP process return individual words, it can return phrases such as \"No problem\" if set to 2 or \"See you later\" if set to 3."
   ]
  },
  {
   "cell_type": "code",
   "execution_count": 64,
   "id": "921385bd",
   "metadata": {},
   "outputs": [
    {
     "data": {
      "text/plain": [
       "[WordList(['studiolife', 'aislife']),\n",
       " WordList(['aislife', 'requires']),\n",
       " WordList(['requires', 'passion']),\n",
       " WordList(['passion', 'dedication']),\n",
       " WordList(['dedication', 'willpower']),\n",
       " WordList(['willpower', 'find']),\n",
       " WordList(['find', 'newmaterialsâ'])]"
      ]
     },
     "execution_count": 64,
     "metadata": {},
     "output_type": "execute_result"
    }
   ],
   "source": [
    "from textblob import TextBlob\n",
    "def combination_of_words(df):\n",
    "    return (TextBlob (df['tweet'][0]).ngrams(2))\n",
    "combination_of_words(data)"
   ]
  },
  {
   "cell_type": "markdown",
   "id": "26c328a3",
   "metadata": {},
   "source": [
    "## Term frequency\n",
    "\n",
    "Term frequency is simply the ratio of the count of a word present in a sentence, to the length of the sentence.\n",
    "\n",
    "TF = (Number of times term T appears in the particular row) / (number of terms in that row)\n",
    "\n",
    "The more the value of IDF, the more unique is the word."
   ]
  },
  {
   "cell_type": "code",
   "execution_count": 54,
   "id": "678c3668",
   "metadata": {},
   "outputs": [],
   "source": [
    "def term_frequency(df):\n",
    "    tf1 = (df['tweet']).apply(lambda x: pd.value_counts(\n",
    "        x.split(\" \"))).sum(axis = 0).reset_index()\n",
    "    tf1.columns = ['words','tf']\n",
    "    return tf1.head()"
   ]
  },
  {
   "cell_type": "code",
   "execution_count": null,
   "id": "cb118a40",
   "metadata": {},
   "outputs": [],
   "source": [
    "term_frequency(data).iloc[1]"
   ]
  },
  {
   "cell_type": "markdown",
   "id": "8f21c587",
   "metadata": {},
   "source": [
    "## Inverse Document Frequency (IDF)\n",
    "\n",
    "The intuition behind inverse document frequency (IDF) is that a word is not of much use to us if it’s appearing in all the documents.\n",
    "\n",
    "Therefore, the IDF of each word is the log of the ratio of the total number of rows to the number of rows in which that word is present.\n",
    "\n",
    "IDF can be calculated as follows -\n",
    "\n",
    "IDF = log(N/n),\n",
    "\n",
    "where, N is the total number of rows and n is the number of rows in which the word was present.\n",
    "\n",
    "Now, we will calculate IDF for the same tweets for which we calculated the term frequency."
   ]
  },
  {
   "cell_type": "markdown",
   "id": "f8aa550d",
   "metadata": {},
   "source": [
    "## Term Frequency – Inverse Document Frequency (TF-IDF) ¶\n",
    "\n",
    "TF-IDF is the multiplication of the TF and IDF which we calculated again below for convinience."
   ]
  },
  {
   "cell_type": "code",
   "execution_count": 65,
   "id": "acfc618e",
   "metadata": {},
   "outputs": [
    {
     "name": "stderr",
     "output_type": "stream",
     "text": [
      "/var/folders/sw/wjwplwf51d53rn6bd73ct86w0000gq/T/ipykernel_35365/2183828162.py:1: FutureWarning: pandas.value_counts is deprecated and will be removed in a future version. Use pd.Series(obj).value_counts() instead.\n",
      "  tf1 = (data['tweet'][1:2]).apply(lambda x: pd.value_counts(\n",
      "/var/folders/sw/wjwplwf51d53rn6bd73ct86w0000gq/T/ipykernel_35365/2183828162.py:1: FutureWarning: value_counts with argument that is not not a Series, Index, ExtensionArray, or np.ndarray is deprecated and will raise in a future version.\n",
      "  tf1 = (data['tweet'][1:2]).apply(lambda x: pd.value_counts(\n"
     ]
    }
   ],
   "source": [
    "tf1 = (data['tweet'][1:2]).apply(lambda x: pd.value_counts(\n",
    "x.split(\" \"))).sum(axis = 0).reset_index()\n",
    "tf1.columns = ['words','tf']"
   ]
  },
  {
   "cell_type": "code",
   "execution_count": 66,
   "id": "2158862d",
   "metadata": {},
   "outputs": [],
   "source": [
    "for i, word in enumerate(tf1['words']):\n",
    "    tf1.loc[i, 'idf'] = np.log(data.shape[0]/(len(data[data\n",
    "                                                        ['tweet'].str.contains(word)])))"
   ]
  },
  {
   "cell_type": "code",
   "execution_count": 67,
   "id": "93124134",
   "metadata": {},
   "outputs": [
    {
     "data": {
      "text/html": [
       "<div>\n",
       "<style scoped>\n",
       "    .dataframe tbody tr th:only-of-type {\n",
       "        vertical-align: middle;\n",
       "    }\n",
       "\n",
       "    .dataframe tbody tr th {\n",
       "        vertical-align: top;\n",
       "    }\n",
       "\n",
       "    .dataframe thead th {\n",
       "        text-align: right;\n",
       "    }\n",
       "</style>\n",
       "<table border=\"1\" class=\"dataframe\">\n",
       "  <thead>\n",
       "    <tr style=\"text-align: right;\">\n",
       "      <th></th>\n",
       "      <th>words</th>\n",
       "      <th>tf</th>\n",
       "      <th>idf</th>\n",
       "      <th>tfidf</th>\n",
       "    </tr>\n",
       "  </thead>\n",
       "  <tbody>\n",
       "    <tr>\n",
       "      <th>0</th>\n",
       "      <td>white</td>\n",
       "      <td>1</td>\n",
       "      <td>4.381852</td>\n",
       "      <td>4.381852</td>\n",
       "    </tr>\n",
       "    <tr>\n",
       "      <th>1</th>\n",
       "      <td>supremacist</td>\n",
       "      <td>1</td>\n",
       "      <td>8.366196</td>\n",
       "      <td>8.366196</td>\n",
       "    </tr>\n",
       "    <tr>\n",
       "      <th>2</th>\n",
       "      <td>want</td>\n",
       "      <td>1</td>\n",
       "      <td>3.693367</td>\n",
       "      <td>3.693367</td>\n",
       "    </tr>\n",
       "    <tr>\n",
       "      <th>3</th>\n",
       "      <td>everyone</td>\n",
       "      <td>1</td>\n",
       "      <td>4.622592</td>\n",
       "      <td>4.622592</td>\n",
       "    </tr>\n",
       "    <tr>\n",
       "      <th>4</th>\n",
       "      <td>see</td>\n",
       "      <td>1</td>\n",
       "      <td>3.429925</td>\n",
       "      <td>3.429925</td>\n",
       "    </tr>\n",
       "    <tr>\n",
       "      <th>5</th>\n",
       "      <td>birdsâ</td>\n",
       "      <td>1</td>\n",
       "      <td>9.752490</td>\n",
       "      <td>9.752490</td>\n",
       "    </tr>\n",
       "    <tr>\n",
       "      <th>6</th>\n",
       "      <td>movie</td>\n",
       "      <td>1</td>\n",
       "      <td>5.275153</td>\n",
       "      <td>5.275153</td>\n",
       "    </tr>\n",
       "    <tr>\n",
       "      <th>7</th>\n",
       "      <td>hereâs</td>\n",
       "      <td>1</td>\n",
       "      <td>9.059343</td>\n",
       "      <td>9.059343</td>\n",
       "    </tr>\n",
       "  </tbody>\n",
       "</table>\n",
       "</div>"
      ],
      "text/plain": [
       "         words  tf       idf     tfidf\n",
       "0        white   1  4.381852  4.381852\n",
       "1  supremacist   1  8.366196  8.366196\n",
       "2         want   1  3.693367  3.693367\n",
       "3     everyone   1  4.622592  4.622592\n",
       "4          see   1  3.429925  3.429925\n",
       "5       birdsâ   1  9.752490  9.752490\n",
       "6        movie   1  5.275153  5.275153\n",
       "7       hereâs   1  9.059343  9.059343"
      ]
     },
     "execution_count": 67,
     "metadata": {},
     "output_type": "execute_result"
    }
   ],
   "source": [
    "tf1['tfidf'] = tf1['tf'] * tf1['idf']\n",
    "tf1"
   ]
  },
  {
   "cell_type": "markdown",
   "id": "886897e3",
   "metadata": {},
   "source": [
    "‘don’t’, ‘can’t’, and ‘use’ are commonly occurring words hence given less scores compared to 'supremacist' or 'hereâs'\n",
    "\n",
    "the above is the way of demonstrating how we can calculate the tf_idf for the texts. however, We don’t have to calculate TF and IDF every time beforehand and then multiply it to obtain TF-IDF. Instead, sklearn has a separate function to directly obtain it:"
   ]
  },
  {
   "cell_type": "code",
   "execution_count": 68,
   "id": "83f94aca",
   "metadata": {},
   "outputs": [
    {
     "data": {
      "text/plain": [
       "<17197x1000 sparse matrix of type '<class 'numpy.float64'>'\n",
       "\twith 57397 stored elements in Compressed Sparse Row format>"
      ]
     },
     "execution_count": 68,
     "metadata": {},
     "output_type": "execute_result"
    }
   ],
   "source": [
    "from sklearn.feature_extraction.text import TfidfVectorizer\n",
    "\n",
    "tfidf = TfidfVectorizer(max_features =1000, lowercase = True, analyzer ='word',\n",
    "                       stop_words='english', ngram_range=(1,1))\n",
    "data_vect = tfidf.fit_transform(data['tweet'])\n",
    "\n",
    "data_vect"
   ]
  },
  {
   "cell_type": "markdown",
   "id": "4348f62b",
   "metadata": {},
   "source": [
    "## Bag of Words \n",
    "\n",
    "\n",
    "**Bag of Words (BoW)** refers to the representation of text which describes the presence of words within the text data. Two similar text fields will contain similar kind of words, and will therefore have a similar bag of words.\n",
    "It is a method to analyze text by counting the occurrence of each word in a document. Imagine putting all the words from an email into a bag and then counting how many times each word appears. This helps us see which topics are common in the text. By comparing the word counts from different texts, we can understand their content without reading every word.<br/>\n",
    "For example, if an email has the words \"meeting,\" \"schedule,\" and \"tomorrow\" appearing multiple times, you can guess that the email might be about scheduling a meeting for tomorrow."
   ]
  },
  {
   "cell_type": "code",
   "execution_count": 69,
   "id": "6347a762",
   "metadata": {},
   "outputs": [
    {
     "data": {
      "text/plain": [
       "<17197x1000 sparse matrix of type '<class 'numpy.int64'>'\n",
       "\twith 57397 stored elements in Compressed Sparse Row format>"
      ]
     },
     "execution_count": 69,
     "metadata": {},
     "output_type": "execute_result"
    }
   ],
   "source": [
    "from sklearn.feature_extraction.text import CountVectorizer\n",
    "\n",
    "bow = CountVectorizer(max_features =1000, lowercase = True,\n",
    "                       stop_words='english', ngram_range=(1,1), analyzer = \"word\")\n",
    "data_bow = bow.fit_transform(data['tweet'])\n",
    "data_bow"
   ]
  },
  {
   "cell_type": "markdown",
   "id": "28acf715",
   "metadata": {},
   "source": [
    "## Sentiment Analysis"
   ]
  },
  {
   "cell_type": "code",
   "execution_count": 70,
   "id": "83c67ef0",
   "metadata": {},
   "outputs": [
    {
     "data": {
      "text/plain": [
       "0                                      (0.0, 0.0)\n",
       "1                                      (0.0, 0.0)\n",
       "2                                      (0.5, 0.5)\n",
       "3                                      (0.5, 1.0)\n",
       "4                                    (0.4, 0.625)\n",
       "                           ...                   \n",
       "17192                                  (0.0, 0.0)\n",
       "17193                                  (0.0, 0.0)\n",
       "17194                                  (0.0, 0.0)\n",
       "17195    (0.2857142857142857, 0.5357142857142857)\n",
       "17196                                 (0.45, 0.9)\n",
       "Name: tweet, Length: 17197, dtype: object"
      ]
     },
     "execution_count": 70,
     "metadata": {},
     "output_type": "execute_result"
    }
   ],
   "source": [
    "def polarity_subjectivity(df):\n",
    "    return df['tweet'].apply(lambda x: TextBlob(x).sentiment)\n",
    "polarity_subjectivity(data)"
   ]
  },
  {
   "cell_type": "markdown",
   "id": "057d6e6f",
   "metadata": {},
   "source": [
    "We can can see that it returns a tuple representing polarity and subjectivity of each tweet. Here, we only extract polarity as it indicates the sentiment as value nearer to 1 means a positive sentiment and values nearer to -1 means a negative sentiment."
   ]
  },
  {
   "cell_type": "code",
   "execution_count": 71,
   "id": "ef769eb6",
   "metadata": {},
   "outputs": [
    {
     "data": {
      "text/html": [
       "<div>\n",
       "<style scoped>\n",
       "    .dataframe tbody tr th:only-of-type {\n",
       "        vertical-align: middle;\n",
       "    }\n",
       "\n",
       "    .dataframe tbody tr th {\n",
       "        vertical-align: top;\n",
       "    }\n",
       "\n",
       "    .dataframe thead th {\n",
       "        text-align: right;\n",
       "    }\n",
       "</style>\n",
       "<table border=\"1\" class=\"dataframe\">\n",
       "  <thead>\n",
       "    <tr style=\"text-align: right;\">\n",
       "      <th></th>\n",
       "      <th>id</th>\n",
       "      <th>tweet</th>\n",
       "      <th>sentiment</th>\n",
       "    </tr>\n",
       "  </thead>\n",
       "  <tbody>\n",
       "    <tr>\n",
       "      <th>0</th>\n",
       "      <td>31963</td>\n",
       "      <td>studiolife aislife requires passion dedication...</td>\n",
       "      <td>0.0</td>\n",
       "    </tr>\n",
       "    <tr>\n",
       "      <th>1</th>\n",
       "      <td>31964</td>\n",
       "      <td>white supremacist want everyone see birdsâ mov...</td>\n",
       "      <td>0.0</td>\n",
       "    </tr>\n",
       "    <tr>\n",
       "      <th>2</th>\n",
       "      <td>31965</td>\n",
       "      <td>safe way heal acne altwaystoheal healthy healing</td>\n",
       "      <td>0.5</td>\n",
       "    </tr>\n",
       "    <tr>\n",
       "      <th>3</th>\n",
       "      <td>31966</td>\n",
       "      <td>hp cursed child book reservation already yes ð...</td>\n",
       "      <td>0.5</td>\n",
       "    </tr>\n",
       "    <tr>\n",
       "      <th>4</th>\n",
       "      <td>31967</td>\n",
       "      <td>3rd amazing hilarious nephew eli ahmir uncle d...</td>\n",
       "      <td>0.4</td>\n",
       "    </tr>\n",
       "  </tbody>\n",
       "</table>\n",
       "</div>"
      ],
      "text/plain": [
       "      id                                              tweet  sentiment\n",
       "0  31963  studiolife aislife requires passion dedication...        0.0\n",
       "1  31964  white supremacist want everyone see birdsâ mov...        0.0\n",
       "2  31965   safe way heal acne altwaystoheal healthy healing        0.5\n",
       "3  31966  hp cursed child book reservation already yes ð...        0.5\n",
       "4  31967  3rd amazing hilarious nephew eli ahmir uncle d...        0.4"
      ]
     },
     "execution_count": 71,
     "metadata": {},
     "output_type": "execute_result"
    }
   ],
   "source": [
    "def sentiment_analysis(df):\n",
    "    df['sentiment'] = df['tweet'].apply(lambda x: TextBlob(x).sentiment[0])\n",
    "    return df[['id', 'tweet','sentiment']].head()\n",
    "sentiment_analysis(data)"
   ]
  },
  {
   "cell_type": "code",
   "execution_count": 72,
   "id": "bd172606",
   "metadata": {},
   "outputs": [
    {
     "data": {
      "text/html": [
       "<div>\n",
       "<style scoped>\n",
       "    .dataframe tbody tr th:only-of-type {\n",
       "        vertical-align: middle;\n",
       "    }\n",
       "\n",
       "    .dataframe tbody tr th {\n",
       "        vertical-align: top;\n",
       "    }\n",
       "\n",
       "    .dataframe thead th {\n",
       "        text-align: right;\n",
       "    }\n",
       "</style>\n",
       "<table border=\"1\" class=\"dataframe\">\n",
       "  <thead>\n",
       "    <tr style=\"text-align: right;\">\n",
       "      <th></th>\n",
       "      <th>id</th>\n",
       "      <th>tweet</th>\n",
       "      <th>sentiment</th>\n",
       "      <th>sentiment_category</th>\n",
       "    </tr>\n",
       "  </thead>\n",
       "  <tbody>\n",
       "    <tr>\n",
       "      <th>0</th>\n",
       "      <td>31963</td>\n",
       "      <td>studiolife aislife requires passion dedication...</td>\n",
       "      <td>0.000000</td>\n",
       "      <td>partially positive</td>\n",
       "    </tr>\n",
       "    <tr>\n",
       "      <th>1</th>\n",
       "      <td>31964</td>\n",
       "      <td>white supremacist want everyone see birdsâ mov...</td>\n",
       "      <td>0.000000</td>\n",
       "      <td>partially positive</td>\n",
       "    </tr>\n",
       "    <tr>\n",
       "      <th>2</th>\n",
       "      <td>31965</td>\n",
       "      <td>safe way heal acne altwaystoheal healthy healing</td>\n",
       "      <td>0.500000</td>\n",
       "      <td>partially negative</td>\n",
       "    </tr>\n",
       "    <tr>\n",
       "      <th>3</th>\n",
       "      <td>31966</td>\n",
       "      <td>hp cursed child book reservation already yes ð...</td>\n",
       "      <td>0.500000</td>\n",
       "      <td>partially negative</td>\n",
       "    </tr>\n",
       "    <tr>\n",
       "      <th>4</th>\n",
       "      <td>31967</td>\n",
       "      <td>3rd amazing hilarious nephew eli ahmir uncle d...</td>\n",
       "      <td>0.400000</td>\n",
       "      <td>partially negative</td>\n",
       "    </tr>\n",
       "    <tr>\n",
       "      <th>...</th>\n",
       "      <td>...</td>\n",
       "      <td>...</td>\n",
       "      <td>...</td>\n",
       "      <td>...</td>\n",
       "    </tr>\n",
       "    <tr>\n",
       "      <th>17192</th>\n",
       "      <td>49155</td>\n",
       "      <td>thought factory leftright polarisation trump u...</td>\n",
       "      <td>0.000000</td>\n",
       "      <td>partially positive</td>\n",
       "    </tr>\n",
       "    <tr>\n",
       "      <th>17193</th>\n",
       "      <td>49156</td>\n",
       "      <td>feeling mermaid hairflip neverready formal wed...</td>\n",
       "      <td>0.000000</td>\n",
       "      <td>partially positive</td>\n",
       "    </tr>\n",
       "    <tr>\n",
       "      <th>17194</th>\n",
       "      <td>49157</td>\n",
       "      <td>hillary campaigned ohioomg used word assetsamp...</td>\n",
       "      <td>0.000000</td>\n",
       "      <td>partially positive</td>\n",
       "    </tr>\n",
       "    <tr>\n",
       "      <th>17195</th>\n",
       "      <td>49158</td>\n",
       "      <td>work conference right mindset lead cultureofde...</td>\n",
       "      <td>0.285714</td>\n",
       "      <td>partially negative</td>\n",
       "    </tr>\n",
       "    <tr>\n",
       "      <th>17196</th>\n",
       "      <td>49159</td>\n",
       "      <td>song glad free download shoegaze newmusic newsong</td>\n",
       "      <td>0.450000</td>\n",
       "      <td>partially negative</td>\n",
       "    </tr>\n",
       "  </tbody>\n",
       "</table>\n",
       "<p>17197 rows × 4 columns</p>\n",
       "</div>"
      ],
      "text/plain": [
       "          id                                              tweet  sentiment  \\\n",
       "0      31963  studiolife aislife requires passion dedication...   0.000000   \n",
       "1      31964  white supremacist want everyone see birdsâ mov...   0.000000   \n",
       "2      31965   safe way heal acne altwaystoheal healthy healing   0.500000   \n",
       "3      31966  hp cursed child book reservation already yes ð...   0.500000   \n",
       "4      31967  3rd amazing hilarious nephew eli ahmir uncle d...   0.400000   \n",
       "...      ...                                                ...        ...   \n",
       "17192  49155  thought factory leftright polarisation trump u...   0.000000   \n",
       "17193  49156  feeling mermaid hairflip neverready formal wed...   0.000000   \n",
       "17194  49157  hillary campaigned ohioomg used word assetsamp...   0.000000   \n",
       "17195  49158  work conference right mindset lead cultureofde...   0.285714   \n",
       "17196  49159  song glad free download shoegaze newmusic newsong   0.450000   \n",
       "\n",
       "       sentiment_category  \n",
       "0      partially positive  \n",
       "1      partially positive  \n",
       "2      partially negative  \n",
       "3      partially negative  \n",
       "4      partially negative  \n",
       "...                   ...  \n",
       "17192  partially positive  \n",
       "17193  partially positive  \n",
       "17194  partially positive  \n",
       "17195  partially negative  \n",
       "17196  partially negative  \n",
       "\n",
       "[17197 rows x 4 columns]"
      ]
     },
     "execution_count": 72,
     "metadata": {},
     "output_type": "execute_result"
    }
   ],
   "source": [
    "# Function to categorize sentiment scores\n",
    "def categorize_sentiment(df):\n",
    "    conditions = [\n",
    "        (df['sentiment'] > 0.5),\n",
    "        (df['sentiment'] > 0) & (df['sentiment'] <= 0.5),\n",
    "        (df['sentiment'] < 0) & (df['sentiment'] >= -0.5),\n",
    "        (df['sentiment'] < -0.5)\n",
    "    ]\n",
    "    categories = ['positive', 'partially positive', 'partially negative', 'negative']\n",
    "    df['sentiment_category'] = pd.cut(df['sentiment'], bins=[-float('inf'), -0.5, 0, 0.5, float('inf')], labels=categories)\n",
    "    return df[['id', 'tweet', 'sentiment', 'sentiment_category']]\n",
    "\n",
    "# Apply categorization\n",
    "categorize_sentiment(data)"
   ]
  },
  {
   "cell_type": "markdown",
   "id": "c1744e88",
   "metadata": {},
   "source": [
    "### Visualizing Results\n",
    "Finally, we visualize the distribution of sentiments to understand the overall mood of the tweets."
   ]
  },
  {
   "cell_type": "code",
   "execution_count": 73,
   "id": "c68a4a85",
   "metadata": {},
   "outputs": [
    {
     "data": {
      "image/png": "[encoded data removed]",
      "text/plain": [
       "<Figure size 800x600 with 1 Axes>"
      ]
     },
     "metadata": {},
     "output_type": "display_data"
    }
   ],
   "source": [
    "import matplotlib.pyplot as plt\n",
    "\n",
    "sentiment_counts = data['sentiment_category'].value_counts()\n",
    "plt.figure(figsize=(8, 6))\n",
    "sentiment_counts.plot(kind='bar')\n",
    "plt.title('Sentiment Analysis of Tweets')\n",
    "plt.xlabel('Sentiment')\n",
    "plt.ylabel('Number of Tweets')\n",
    "plt.show()"
   ]
  }
 ],
 "metadata": {
  "kernelspec": {
   "display_name": "Python 3 (ipykernel)",
   "language": "python",
   "name": "python3"
  },
  "language_info": {
   "codemirror_mode": {
    "name": "ipython",
    "version": 3
   },
   "file_extension": ".py",
   "mimetype": "text/x-python",
   "name": "python",
   "nbconvert_exporter": "python",
   "pygments_lexer": "ipython3",
   "version": "3.9.16"
  }
 },
 "nbformat": 4,
 "nbformat_minor": 5
}
